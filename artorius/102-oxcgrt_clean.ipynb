{
 "cells": [
  {
   "cell_type": "code",
   "execution_count": 93,
   "metadata": {},
   "outputs": [],
   "source": [
    "import pandas as pd\n",
    "import numpy as np\n",
    "import os\n",
    "import re\n",
    "from datetime import datetime"
   ]
  },
  {
   "cell_type": "code",
   "execution_count": 27,
   "metadata": {},
   "outputs": [],
   "source": [
    "### root directory\n",
    "root = os.path.abspath(os.path.join(os.getcwd(), os.pardir))\n",
    "path_data = os.path.join(root, 'data')\n",
    "path_oxcgrt = os.path.join(path_data, 'OxCGRT_timeseries_all.xlsx')"
   ]
  },
  {
   "cell_type": "code",
   "execution_count": 29,
   "metadata": {},
   "outputs": [
    {
     "data": {
      "text/plain": [
       "['stringency_index_avg',\n",
       " 'containment_health_index_avg',\n",
       " 'government_response_index_avg',\n",
       " 'economic_support_index',\n",
       " 'c1m_school_closing',\n",
       " 'c1m_flag',\n",
       " 'c2m_workplace_closing',\n",
       " 'c2m_flag',\n",
       " 'c3m_cancel_public_events',\n",
       " 'c3m_flag',\n",
       " 'c4m_restrictions_on_gatherings',\n",
       " 'c4m_flag',\n",
       " 'c5m_close_public_transport',\n",
       " 'c5m_flag',\n",
       " 'c6m_stay_at_home_requirements',\n",
       " 'c6m_flag',\n",
       " 'c7m_movementrestrictions',\n",
       " 'c7m_flag',\n",
       " 'c8ev_internationaltravel',\n",
       " 'e1_income_support',\n",
       " 'e1_flag',\n",
       " 'e2_debtrelief',\n",
       " 'h1_public_information_campaigns',\n",
       " 'h1_flag',\n",
       " 'h2_testing_policy',\n",
       " 'h3_contact_tracing',\n",
       " 'h6m_facial_coverings',\n",
       " 'h6m_flag',\n",
       " 'h7_vaccination_policy',\n",
       " 'h7_flag',\n",
       " 'h8m_protection_of_elderly_ppl',\n",
       " 'h8m_flag',\n",
       " 'confirmed_cases',\n",
       " 'confirmed_deaths']"
      ]
     },
     "execution_count": 29,
     "metadata": {},
     "output_type": "execute_result"
    }
   ],
   "source": [
    "## open excel \n",
    "EXCEL = pd.ExcelFile(path_oxcgrt)\n",
    "\n",
    "## get sheet names\n",
    "EXCEL.sheet_names"
   ]
  },
  {
   "cell_type": "code",
   "execution_count": 94,
   "metadata": {},
   "outputs": [],
   "source": [
    "## read sheet\n",
    "selected_sheet = 'h2_testing_policy' # c4m_restrictions_on_gatherings\n",
    "\n",
    "df = EXCEL.parse(selected_sheet)"
   ]
  },
  {
   "cell_type": "code",
   "execution_count": 95,
   "metadata": {},
   "outputs": [],
   "source": [
    "df = (df\n",
    "      .query('country_code == \"USA\" | country_code == \"IND\" | country_code == \"IDN\"') # only need USA, india and indonesia\n",
    "      .query('jurisdiction == \"NAT_TOTAL\"') # only need national level\n",
    "      .drop(['country_name', 'region_code', 'region_name', 'jurisdiction'], axis=1)\n",
    "      .reset_index(drop=True) # tidy up\n",
    "      \n",
    "      .set_index(['country_code']) # melting\n",
    "      .unstack() # ibid\n",
    "      .reset_index() # ibid\n",
    "      .rename(columns={'level_0': 'date', 0: 'level'}) # rename columns\n",
    "      .sort_values(['country_code', 'date']) # sorting\n",
    "      .reset_index(drop=True) # tidy up\n",
    "      .assign(date = lambda x: x['date'].apply(lambda x: datetime.strptime(x, '%d%b%Y').strftime('%Y-%m-%d'))) # transform 01Apr2022 to 2022-04-01\n",
    "      )"
   ]
  },
  {
   "cell_type": "code",
   "execution_count": 96,
   "metadata": {},
   "outputs": [],
   "source": [
    "df.to_csv(os.path.join(path_data, f'oxcgrt_{selected_sheet}.csv'), index=False)"
   ]
  },
  {
   "cell_type": "code",
   "execution_count": null,
   "metadata": {},
   "outputs": [],
   "source": []
  }
 ],
 "metadata": {
  "kernelspec": {
   "display_name": "Python 3.10.4 ('venv': venv)",
   "language": "python",
   "name": "python3"
  },
  "language_info": {
   "codemirror_mode": {
    "name": "ipython",
    "version": 3
   },
   "file_extension": ".py",
   "mimetype": "text/x-python",
   "name": "python",
   "nbconvert_exporter": "python",
   "pygments_lexer": "ipython3",
   "version": "3.10.4"
  },
  "orig_nbformat": 4,
  "vscode": {
   "interpreter": {
    "hash": "c8f43a7909c1c004417d38a2aae4808776198692c948156b64ab6dfc08b2a350"
   }
  }
 },
 "nbformat": 4,
 "nbformat_minor": 2
}
